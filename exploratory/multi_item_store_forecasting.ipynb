{
 "cells": [
  {
   "cell_type": "code",
   "execution_count": 1,
   "metadata": {},
   "outputs": [],
   "source": [
    "#!/usr/bin/env python3\n",
    "from main.utils.spark_utils import init_spark\n",
    "from pyspark.sql.types import StructType, StructField, DateType, IntegerType, TimestampType, FloatType, StringType\n",
    "from pyspark.sql.functions import sum, max, col, pandas_udf, PandasUDFType, lit\n",
    "\n",
    "from fbprophet import Prophet\n",
    "from sklearn.metrics import mean_squared_error, mean_absolute_error\n",
    "from math import sqrt\n",
    "from datetime import date\n",
    "\n",
    "import time\n",
    "import matplotlib.pyplot as plt\n",
    "import pandas as pd"
   ]
  },
  {
   "cell_type": "code",
   "execution_count": 2,
   "metadata": {},
   "outputs": [],
   "source": [
    "spark = init_spark('multi_forecasting')"
   ]
  },
  {
   "cell_type": "code",
   "execution_count": 3,
   "metadata": {},
   "outputs": [],
   "source": [
    "# structure of the training data set\n",
    "train_schema = StructType([\n",
    "  StructField('date', DateType()),\n",
    "  StructField('store', IntegerType()),\n",
    "  StructField('item', IntegerType()),\n",
    "  StructField('sales', IntegerType())\n",
    "  ])\n",
    "\n",
    "# read the training file into a DataFrame\n",
    "train_df = spark.read.csv(\n",
    "  '../src/main/resources/kaggle/train.csv',\n",
    "  header=True,\n",
    "  schema=train_schema\n",
    "  )"
   ]
  },
  {
   "cell_type": "code",
   "execution_count": 4,
   "metadata": {},
   "outputs": [],
   "source": [
    "stores = train_df.select('store').orderBy('store').distinct()"
   ]
  },
  {
   "cell_type": "code",
   "execution_count": 5,
   "metadata": {},
   "outputs": [
    {
     "name": "stdout",
     "output_type": "stream",
     "text": [
      "Available data has 50 distinct items on stock\n"
     ]
    }
   ],
   "source": [
    "distinct_items = train_df.select('item').distinct().count()\n",
    "print(f'Available data has {distinct_items} distinct items on stock')"
   ]
  },
  {
   "cell_type": "code",
   "execution_count": 6,
   "metadata": {},
   "outputs": [
    {
     "name": "stdout",
     "output_type": "stream",
     "text": [
      "+-----+----+----------------+\n",
      "|store|item|total_sale_items|\n",
      "+-----+----+----------------+\n",
      "|    2|  28|          205677|\n",
      "|    2|  15|          205569|\n",
      "|    2|  18|          197422|\n",
      "|    8|  15|          197295|\n",
      "|    2|  13|          197031|\n",
      "|    8|  28|          196867|\n",
      "|    8|  18|          189576|\n",
      "|    8|  13|          189575|\n",
      "|    2|  25|          188856|\n",
      "|    2|  45|          188774|\n",
      "+-----+----+----------------+\n",
      "only showing top 10 rows\n",
      "\n"
     ]
    }
   ],
   "source": [
    "# Top 10 sales per store and item\n",
    "sale_items_per_store = train_df.groupBy(['store', 'item']).agg(sum('sales').alias('total_sale_items'))\\\n",
    "    .orderBy('total_sale_items', ascending=False)\n",
    "sale_items_per_store.show(10)\n",
    "\n",
    "# make the DataFrame available as query temporary view\n",
    "train_df.createOrReplaceTempView('train')"
   ]
  },
  {
   "cell_type": "code",
   "execution_count": 7,
   "metadata": {},
   "outputs": [],
   "source": [
    "sql_statement = '''\n",
    "  SELECT\n",
    "    store,\n",
    "    item,\n",
    "    CAST(date as timestamp) as ds,\n",
    "    SUM(sales) as y\n",
    "  FROM train\n",
    "  GROUP BY store, item, ds\n",
    "  ORDER BY store, item, ds\n",
    "  '''\n",
    "\n",
    "# assemble DataSet in Pandas DataFrame\n",
    "store_item_history_df = spark.sql(sql_statement)\\\n",
    "    .repartition(spark.sparkContext.defaultParallelism, ['store', 'item'])"
   ]
  },
  {
   "cell_type": "code",
   "execution_count": 8,
   "metadata": {},
   "outputs": [
    {
     "data": {
      "text/plain": [
       "DataFrame[store: int, item: int, ds: timestamp, y: bigint]"
      ]
     },
     "execution_count": 8,
     "metadata": {},
     "output_type": "execute_result"
    }
   ],
   "source": [
    "store_item_history_df.cache()"
   ]
  },
  {
   "cell_type": "code",
   "execution_count": 9,
   "metadata": {},
   "outputs": [
    {
     "name": "stdout",
     "output_type": "stream",
     "text": [
      "+-----+----+-------------------+---+\n",
      "|store|item|                 ds|  y|\n",
      "+-----+----+-------------------+---+\n",
      "|    1|   5|2013-01-01 00:00:00| 11|\n",
      "|    1|   5|2013-01-02 00:00:00|  6|\n",
      "|    1|   5|2013-01-03 00:00:00|  8|\n",
      "|    1|   5|2013-01-04 00:00:00|  9|\n",
      "|    1|   5|2013-01-05 00:00:00|  8|\n",
      "|    1|   5|2013-01-06 00:00:00| 13|\n",
      "|    1|   5|2013-01-07 00:00:00| 11|\n",
      "|    1|   5|2013-01-08 00:00:00| 10|\n",
      "|    1|   5|2013-01-09 00:00:00|  7|\n",
      "|    1|   5|2013-01-10 00:00:00|  8|\n",
      "|    1|   5|2013-01-11 00:00:00| 10|\n",
      "|    1|   5|2013-01-12 00:00:00|  8|\n",
      "|    1|   5|2013-01-13 00:00:00| 11|\n",
      "|    1|   5|2013-01-14 00:00:00|  5|\n",
      "|    1|   5|2013-01-15 00:00:00| 10|\n",
      "|    1|   5|2013-01-16 00:00:00|  6|\n",
      "|    1|   5|2013-01-17 00:00:00|  7|\n",
      "|    1|   5|2013-01-18 00:00:00| 10|\n",
      "|    1|   5|2013-01-19 00:00:00|  8|\n",
      "|    1|   5|2013-01-20 00:00:00|  9|\n",
      "+-----+----+-------------------+---+\n",
      "only showing top 20 rows\n",
      "\n"
     ]
    }
   ],
   "source": [
    "store_item_history_df.show()"
   ]
  },
  {
   "cell_type": "code",
   "execution_count": 10,
   "metadata": {},
   "outputs": [
    {
     "name": "stdout",
     "output_type": "stream",
     "text": [
      "               store           item              y\n",
      "count  913000.000000  913000.000000  913000.000000\n",
      "mean        5.500000      25.500000      52.250287\n",
      "std         2.872283      14.430878      28.801144\n",
      "min         1.000000       1.000000       0.000000\n",
      "25%         3.000000      13.000000      30.000000\n",
      "50%         5.500000      25.500000      47.000000\n",
      "75%         8.000000      38.000000      70.000000\n",
      "max        10.000000      50.000000     231.000000\n",
      "   store  item         ds   y\n",
      "0      1     5 2013-01-01  11\n",
      "1      1     5 2013-01-02   6\n",
      "2      1     5 2013-01-03   8\n",
      "3      1     5 2013-01-04   9\n",
      "4      1     5 2013-01-05   8\n",
      "store             int32\n",
      "item              int32\n",
      "ds       datetime64[ns]\n",
      "y                 int64\n",
      "dtype: object\n"
     ]
    }
   ],
   "source": [
    "history_pd = store_item_history_df.toPandas()\n",
    "print(history_pd.describe())\n",
    "\n",
    "# drop any missing records\n",
    "history_pd = history_pd.dropna()\n",
    "print(history_pd.head())\n",
    "print(history_pd.dtypes)"
   ]
  },
  {
   "cell_type": "code",
   "execution_count": 11,
   "metadata": {},
   "outputs": [],
   "source": [
    "# history_pd[\"ds\"]  = pd.to_datetime(history_pd[\"ds\"])"
   ]
  },
  {
   "cell_type": "code",
   "execution_count": 12,
   "metadata": {},
   "outputs": [
    {
     "name": "stdout",
     "output_type": "stream",
     "text": [
      "store             int32\n",
      "item              int32\n",
      "ds       datetime64[ns]\n",
      "y                 int64\n",
      "dtype: object\n"
     ]
    }
   ],
   "source": [
    "print(history_pd.dtypes)"
   ]
  },
  {
   "cell_type": "code",
   "execution_count": 13,
   "metadata": {},
   "outputs": [
    {
     "data": {
      "text/html": [
       "<div>\n",
       "<style scoped>\n",
       "    .dataframe tbody tr th:only-of-type {\n",
       "        vertical-align: middle;\n",
       "    }\n",
       "\n",
       "    .dataframe tbody tr th {\n",
       "        vertical-align: top;\n",
       "    }\n",
       "\n",
       "    .dataframe thead th {\n",
       "        text-align: right;\n",
       "    }\n",
       "</style>\n",
       "<table border=\"1\" class=\"dataframe\">\n",
       "  <thead>\n",
       "    <tr style=\"text-align: right;\">\n",
       "      <th></th>\n",
       "      <th>store</th>\n",
       "      <th>item</th>\n",
       "      <th>ds</th>\n",
       "      <th>y</th>\n",
       "    </tr>\n",
       "  </thead>\n",
       "  <tbody>\n",
       "    <tr>\n",
       "      <th>0</th>\n",
       "      <td>1</td>\n",
       "      <td>5</td>\n",
       "      <td>2013-01-01</td>\n",
       "      <td>11</td>\n",
       "    </tr>\n",
       "    <tr>\n",
       "      <th>1</th>\n",
       "      <td>1</td>\n",
       "      <td>5</td>\n",
       "      <td>2013-01-02</td>\n",
       "      <td>6</td>\n",
       "    </tr>\n",
       "    <tr>\n",
       "      <th>2</th>\n",
       "      <td>1</td>\n",
       "      <td>5</td>\n",
       "      <td>2013-01-03</td>\n",
       "      <td>8</td>\n",
       "    </tr>\n",
       "    <tr>\n",
       "      <th>3</th>\n",
       "      <td>1</td>\n",
       "      <td>5</td>\n",
       "      <td>2013-01-04</td>\n",
       "      <td>9</td>\n",
       "    </tr>\n",
       "    <tr>\n",
       "      <th>4</th>\n",
       "      <td>1</td>\n",
       "      <td>5</td>\n",
       "      <td>2013-01-05</td>\n",
       "      <td>8</td>\n",
       "    </tr>\n",
       "  </tbody>\n",
       "</table>\n",
       "</div>"
      ],
      "text/plain": [
       "   store  item         ds   y\n",
       "0      1     5 2013-01-01  11\n",
       "1      1     5 2013-01-02   6\n",
       "2      1     5 2013-01-03   8\n",
       "3      1     5 2013-01-04   9\n",
       "4      1     5 2013-01-05   8"
      ]
     },
     "execution_count": 13,
     "metadata": {},
     "output_type": "execute_result"
    }
   ],
   "source": [
    "history_pd.head()"
   ]
  },
  {
   "cell_type": "code",
   "execution_count": 14,
   "metadata": {},
   "outputs": [
    {
     "name": "stdout",
     "output_type": "stream",
     "text": [
      "+----+-------------------+---+---+---+---+---+---+---+---+---+---+\n",
      "|item|                 ds|  1|  2|  3|  4|  5|  6|  7|  8|  9| 10|\n",
      "+----+-------------------+---+---+---+---+---+---+---+---+---+---+\n",
      "|   5|2013-02-12 00:00:00| 13| 16| 13|  9|  7|  5|  7| 10| 12| 15|\n",
      "|   5|2013-03-31 00:00:00| 15| 26| 17| 17|  7|  8|  4| 18| 20| 19|\n",
      "|  16|2013-02-15 00:00:00| 17| 34| 28| 13| 13| 17| 12| 23| 18| 19|\n",
      "|  28|2013-06-08 00:00:00| 88|105|108| 85| 71| 82| 80|117|103| 86|\n",
      "|  30|2013-02-08 00:00:00| 36| 36| 30| 28| 27| 25| 17| 37| 22| 31|\n",
      "|  30|2013-03-24 00:00:00| 34| 33| 46| 33| 28| 27| 17| 49| 33| 38|\n",
      "|  37|2013-03-07 00:00:00| 22| 27| 25| 21| 14| 14| 16| 18| 28| 37|\n",
      "|  37|2013-06-22 00:00:00| 36| 44| 44| 31| 30| 26| 23| 40| 33| 43|\n",
      "|  42|2013-07-08 00:00:00| 29| 44| 39| 25| 24| 30| 24| 44| 32| 36|\n",
      "|  49|2013-06-04 00:00:00| 26| 30| 35| 31| 20| 14| 14| 34| 35| 28|\n",
      "|  10|2013-04-18 00:00:00| 60| 74| 63| 60| 42| 30| 44| 85| 61| 79|\n",
      "|  10|2013-06-07 00:00:00| 87| 91| 92| 92| 72| 62| 50| 75| 76| 90|\n",
      "|  14|2013-04-28 00:00:00| 62| 69| 76| 66| 57| 48| 32| 71| 70| 61|\n",
      "|  14|2013-05-29 00:00:00| 52| 63| 49| 49| 33| 46| 32| 65| 44| 62|\n",
      "|  26|2013-03-22 00:00:00| 25| 49| 42| 39| 40| 38| 27| 57| 48| 50|\n",
      "|  26|2013-06-07 00:00:00| 38| 69| 58| 48| 44| 43| 31| 50| 52| 48|\n",
      "|  29|2013-02-12 00:00:00| 39| 62| 51| 35| 26| 30| 39| 49| 60| 51|\n",
      "|  29|2013-06-25 00:00:00| 62| 84| 98| 68| 53| 45| 45| 77| 65| 92|\n",
      "|  29|2013-06-27 00:00:00| 53| 81|108| 66| 45| 50| 53|101| 73| 67|\n",
      "|  46|2013-08-03 00:00:00| 45| 87| 62| 61| 56| 44| 48| 85| 67| 60|\n",
      "+----+-------------------+---+---+---+---+---+---+---+---+---+---+\n",
      "only showing top 20 rows\n",
      "\n"
     ]
    }
   ],
   "source": [
    "# Pivot data to represent each store\n",
    "stores_to_pivot = list(stores.toPandas()['store'])\n",
    "\n",
    "store_item_history_pivot = store_item_history_df.groupBy(['item', 'ds']) \\\n",
    "    .pivot('store', stores_to_pivot) \\\n",
    "    .agg(sum(\"y\").alias(\"total_sale_items\"))\n",
    "\n",
    "store_item_history_pivot.show()\n",
    "# |item| ds|  1|  2|  3|  4|  5|  6|  7|  8|  9| 10|"
   ]
  },
  {
   "cell_type": "code",
   "execution_count": 15,
   "metadata": {},
   "outputs": [
    {
     "name": "stdout",
     "output_type": "stream",
     "text": [
      "root\n",
      " |-- item: integer (nullable = true)\n",
      " |-- ds: timestamp (nullable = true)\n",
      " |-- 1: long (nullable = true)\n",
      " |-- 2: long (nullable = true)\n",
      " |-- 3: long (nullable = true)\n",
      " |-- 4: long (nullable = true)\n",
      " |-- 5: long (nullable = true)\n",
      " |-- 6: long (nullable = true)\n",
      " |-- 7: long (nullable = true)\n",
      " |-- 8: long (nullable = true)\n",
      " |-- 9: long (nullable = true)\n",
      " |-- 10: long (nullable = true)\n",
      "\n"
     ]
    }
   ],
   "source": [
    "store_item_history_pivot.printSchema()"
   ]
  },
  {
   "cell_type": "code",
   "execution_count": 16,
   "metadata": {},
   "outputs": [],
   "source": [
    "store_item_history_pivot_pd = store_item_history_pivot.toPandas()"
   ]
  },
  {
   "cell_type": "code",
   "execution_count": 17,
   "metadata": {},
   "outputs": [
    {
     "data": {
      "text/plain": [
       "item             int32\n",
       "ds      datetime64[ns]\n",
       "1                int64\n",
       "2                int64\n",
       "3                int64\n",
       "4                int64\n",
       "5                int64\n",
       "6                int64\n",
       "7                int64\n",
       "8                int64\n",
       "9                int64\n",
       "10               int64\n",
       "dtype: object"
      ]
     },
     "execution_count": 17,
     "metadata": {},
     "output_type": "execute_result"
    }
   ],
   "source": [
    "store_item_history_pivot_pd.dtypes"
   ]
  },
  {
   "cell_type": "code",
   "execution_count": 18,
   "metadata": {},
   "outputs": [],
   "source": [
    "# store_item_history_pivot_pd[\"ds\"]  = pd.to_datetime(store_item_history_pivot_pd[\"ds\"])"
   ]
  },
  {
   "cell_type": "code",
   "execution_count": 19,
   "metadata": {},
   "outputs": [
    {
     "data": {
      "text/html": [
       "<div>\n",
       "<style scoped>\n",
       "    .dataframe tbody tr th:only-of-type {\n",
       "        vertical-align: middle;\n",
       "    }\n",
       "\n",
       "    .dataframe tbody tr th {\n",
       "        vertical-align: top;\n",
       "    }\n",
       "\n",
       "    .dataframe thead th {\n",
       "        text-align: right;\n",
       "    }\n",
       "</style>\n",
       "<table border=\"1\" class=\"dataframe\">\n",
       "  <thead>\n",
       "    <tr style=\"text-align: right;\">\n",
       "      <th></th>\n",
       "      <th>item</th>\n",
       "      <th>ds</th>\n",
       "      <th>1</th>\n",
       "      <th>2</th>\n",
       "      <th>3</th>\n",
       "      <th>4</th>\n",
       "      <th>5</th>\n",
       "      <th>6</th>\n",
       "      <th>7</th>\n",
       "      <th>8</th>\n",
       "      <th>9</th>\n",
       "      <th>10</th>\n",
       "    </tr>\n",
       "  </thead>\n",
       "  <tbody>\n",
       "    <tr>\n",
       "      <th>0</th>\n",
       "      <td>5</td>\n",
       "      <td>2013-02-12</td>\n",
       "      <td>13</td>\n",
       "      <td>16</td>\n",
       "      <td>13</td>\n",
       "      <td>9</td>\n",
       "      <td>7</td>\n",
       "      <td>5</td>\n",
       "      <td>7</td>\n",
       "      <td>10</td>\n",
       "      <td>12</td>\n",
       "      <td>15</td>\n",
       "    </tr>\n",
       "    <tr>\n",
       "      <th>1</th>\n",
       "      <td>5</td>\n",
       "      <td>2013-03-31</td>\n",
       "      <td>15</td>\n",
       "      <td>26</td>\n",
       "      <td>17</td>\n",
       "      <td>17</td>\n",
       "      <td>7</td>\n",
       "      <td>8</td>\n",
       "      <td>4</td>\n",
       "      <td>18</td>\n",
       "      <td>20</td>\n",
       "      <td>19</td>\n",
       "    </tr>\n",
       "    <tr>\n",
       "      <th>2</th>\n",
       "      <td>16</td>\n",
       "      <td>2013-02-15</td>\n",
       "      <td>17</td>\n",
       "      <td>34</td>\n",
       "      <td>28</td>\n",
       "      <td>13</td>\n",
       "      <td>13</td>\n",
       "      <td>17</td>\n",
       "      <td>12</td>\n",
       "      <td>23</td>\n",
       "      <td>18</td>\n",
       "      <td>19</td>\n",
       "    </tr>\n",
       "    <tr>\n",
       "      <th>3</th>\n",
       "      <td>28</td>\n",
       "      <td>2013-06-08</td>\n",
       "      <td>88</td>\n",
       "      <td>105</td>\n",
       "      <td>108</td>\n",
       "      <td>85</td>\n",
       "      <td>71</td>\n",
       "      <td>82</td>\n",
       "      <td>80</td>\n",
       "      <td>117</td>\n",
       "      <td>103</td>\n",
       "      <td>86</td>\n",
       "    </tr>\n",
       "    <tr>\n",
       "      <th>4</th>\n",
       "      <td>30</td>\n",
       "      <td>2013-02-08</td>\n",
       "      <td>36</td>\n",
       "      <td>36</td>\n",
       "      <td>30</td>\n",
       "      <td>28</td>\n",
       "      <td>27</td>\n",
       "      <td>25</td>\n",
       "      <td>17</td>\n",
       "      <td>37</td>\n",
       "      <td>22</td>\n",
       "      <td>31</td>\n",
       "    </tr>\n",
       "  </tbody>\n",
       "</table>\n",
       "</div>"
      ],
      "text/plain": [
       "   item         ds   1    2    3   4   5   6   7    8    9  10\n",
       "0     5 2013-02-12  13   16   13   9   7   5   7   10   12  15\n",
       "1     5 2013-03-31  15   26   17  17   7   8   4   18   20  19\n",
       "2    16 2013-02-15  17   34   28  13  13  17  12   23   18  19\n",
       "3    28 2013-06-08  88  105  108  85  71  82  80  117  103  86\n",
       "4    30 2013-02-08  36   36   30  28  27  25  17   37   22  31"
      ]
     },
     "execution_count": 19,
     "metadata": {},
     "output_type": "execute_result"
    }
   ],
   "source": [
    "store_item_history_pivot_pd.head()"
   ]
  },
  {
   "cell_type": "code",
   "execution_count": 20,
   "metadata": {},
   "outputs": [
    {
     "name": "stdout",
     "output_type": "stream",
     "text": [
      "          ds   1    2    3   4   5   6   7    8    9  10\n",
      "0 2013-02-12  13   16   13   9   7   5   7   10   12  15\n",
      "1 2013-03-31  15   26   17  17   7   8   4   18   20  19\n",
      "2 2013-02-15  17   34   28  13  13  17  12   23   18  19\n",
      "3 2013-06-08  88  105  108  85  71  82  80  117  103  86\n",
      "4 2013-02-08  36   36   30  28  27  25  17   37   22  31\n"
     ]
    }
   ],
   "source": [
    "# x = store_item_history_pivot_pd.select([c for c in store_item_history_pivot_pd.columns if c not in to_drop])\n",
    "\n",
    "store_item_history_plot = store_item_history_pivot_pd.drop('item', axis=1)\n",
    "print(store_item_history_plot.head())"
   ]
  },
  {
   "cell_type": "code",
   "execution_count": 21,
   "metadata": {},
   "outputs": [
    {
     "name": "stdout",
     "output_type": "stream",
     "text": [
      "      item         ds   1   2   3   4   5   6   7   8   9  10\n",
      "1873    16 2013-01-08  11  11  10   7  15   6   8   6  16  15\n",
      "1879    29 2013-01-08  35  51  52  44  20  24  22  48  37  40\n",
      "2346    45 2013-03-27  40  62  57  54  41  43  34  66  65  56\n",
      "3273    35 2013-01-08  34  50  46  29  27  20  20  33  31  44\n",
      "5055    49 2013-01-08  13  29  18  15   7  16   7  13  14  14\n"
     ]
    }
   ],
   "source": [
    "print(store_item_history_pivot_pd[store_item_history_pivot_pd['ds'].isin(['2013-03-27', '2013-01-08'])].head(5))"
   ]
  },
  {
   "cell_type": "code",
   "execution_count": 22,
   "metadata": {},
   "outputs": [
    {
     "name": "stdout",
     "output_type": "stream",
     "text": [
      "store         1     2     3     4     5     6     7     8     9     10\n",
      "ds                                                                    \n",
      "2013-01-01  1316  1742  1588  1423  1032  1099   964  1628  1383  1521\n",
      "2013-01-02  1264  1808  1538  1432   997  1023   944  1687  1455  1530\n",
      "2013-01-03  1305  1887  1635  1534  1130  1149   966  1736  1492  1654\n",
      "2013-01-04  1452  1983  1741  1685  1258  1201  1040  1966  1612  1739\n",
      "2013-01-05  1499  2087  1887  1649  1154  1286  1131  2005  1698  1841\n"
     ]
    }
   ],
   "source": [
    "history_pd_pivoted = history_pd.pivot_table(index='ds', columns='store', values='y', aggfunc='sum')\n",
    "print(history_pd_pivoted.head())\n",
    "\n",
    "# history_pd_pivoted.plot()\n",
    "# plt.show()"
   ]
  },
  {
   "cell_type": "code",
   "execution_count": 23,
   "metadata": {},
   "outputs": [],
   "source": [
    "# structure of the dataset returned by the function\n",
    "\n",
    "result_schema =StructType([\n",
    "  StructField('ds',TimestampType()),\n",
    "  StructField('y', FloatType()),\n",
    "  StructField('yhat_lower', FloatType()),\n",
    "  StructField('yhat_upper', FloatType()),\n",
    "  StructField('trend_lower', FloatType()),\n",
    "  StructField('trend_upper', FloatType()),\n",
    "  StructField('multiplicative_terms', FloatType()),\n",
    "  StructField('multiplicative_terms_lower', FloatType()),\n",
    "  StructField('multiplicative_terms_upper', FloatType()),\n",
    "  StructField('weekly', FloatType()),\n",
    "  StructField('weekly_lower', FloatType()),\n",
    "  StructField('weekly_upper', FloatType()),\n",
    "  StructField('yearly', FloatType()),\n",
    "  StructField('yearly_lower', FloatType()),\n",
    "  StructField('yearly_upper', FloatType()),\n",
    "  StructField('daily', FloatType()),\n",
    "  StructField('daily_lower', FloatType()),\n",
    "  StructField('daily_upper', FloatType()),\n",
    "  StructField('additive_terms', FloatType()),\n",
    "  StructField('additive_terms_lower', FloatType()),\n",
    "  StructField('additive_terms_upper', FloatType()),\n",
    "  StructField('yhat', FloatType())\n",
    "  ])"
   ]
  },
  {
   "cell_type": "code",
   "execution_count": 24,
   "metadata": {},
   "outputs": [],
   "source": [
    "result_schema =StructType([\n",
    "  StructField('ds', TimestampType()),\n",
    "  StructField('store',IntegerType()),\n",
    "  StructField('item',IntegerType()),\n",
    "  StructField('y',FloatType()),\n",
    "  StructField('yhat',FloatType()),\n",
    "  StructField('yhat_upper',FloatType()),\n",
    "  StructField('yhat_lower',FloatType())\n",
    "  ])"
   ]
  },
  {
   "cell_type": "code",
   "execution_count": 25,
   "metadata": {},
   "outputs": [],
   "source": [
    "# forecast function\n",
    "@pandas_udf(result_schema, PandasUDFType.GROUPED_MAP)\n",
    "def get_forecast(history_pd):\n",
    "    import shutil\n",
    "    # import mlflow\n",
    "    # Our first step is to assemble the historical DataSet on which we will train the model\n",
    "    # instantiate the model and set parameters\n",
    "    model = Prophet(\n",
    "        interval_width=0.95,\n",
    "        growth='linear',\n",
    "        daily_seasonality=False,\n",
    "        weekly_seasonality=True,\n",
    "        yearly_seasonality=True,\n",
    "        seasonality_mode='multiplicative'\n",
    "        #,holidays=holidays_pd\n",
    "    )\n",
    "\n",
    "      \n",
    "    # train model\n",
    "    model.fit(history_pd)\n",
    "  \n",
    "    # save models for potential later use\n",
    "    # model_path = '/timeseries/{0}'.format('store')\n",
    "    # shutil.rmtree(model_path, ignore_errors=True)\n",
    "    # mlflow.sklearn.save_model(model, model_path)\n",
    "\n",
    "    # make forecast dataframe\n",
    "    # define a dataset including both historical dates & 90-days beyond the last available date\n",
    "    future_pd = model.make_future_dataframe(\n",
    "        periods=90,\n",
    "        freq='d',\n",
    "        include_history=True\n",
    "    )\n",
    "\n",
    "    # Predict over the dataset forecast\n",
    "    forecast_pd = model.predict(future_pd)\n",
    "    \n",
    "    # ASSEMBLE EXPECTED RESULT SET\n",
    "    \n",
    "    # get relevant fields from forecast\n",
    "    f_pd = forecast_pd[['ds','yhat', 'yhat_upper', 'yhat_lower']].set_index('ds')\n",
    "    # get relevant fields from history\n",
    "    h_pd = history_pd[['ds','store','item','y']].set_index('ds')\n",
    "  \n",
    "    # join history and forecast\n",
    "    results_pd = f_pd.join( h_pd, how='left' )\n",
    "    results_pd.reset_index(level=0, inplace=True)\n",
    "    \n",
    "    # get store & item from incoming data set\n",
    "    results_pd['store'] = history_pd['store'].iloc[0]\n",
    "    results_pd['item'] = history_pd['item'].iloc[0]\n",
    "    # --------------------------------------\n",
    "    \n",
    "    # return expected dataset\n",
    "    return results_pd[['ds', 'store', 'item', 'y', 'yhat', 'yhat_upper', 'yhat_lower']]"
   ]
  },
  {
   "cell_type": "code",
   "execution_count": 31,
   "metadata": {},
   "outputs": [],
   "source": [
    "time_start_all = time.time()"
   ]
  },
  {
   "cell_type": "code",
   "execution_count": 32,
   "metadata": {},
   "outputs": [],
   "source": [
    "from pyspark.sql.functions import current_date\n",
    "import pyarrow as pa \n",
    "\n",
    "results = (\n",
    "  store_item_history_df\n",
    "    .groupBy('store', 'item')\n",
    "    .apply(get_forecast)\n",
    "    .withColumn('training_date', lit(date.today()))\n",
    "    ).cache()"
   ]
  },
  {
   "cell_type": "code",
   "execution_count": 33,
   "metadata": {},
   "outputs": [],
   "source": [
    "results.createOrReplaceTempView('new_forecasts')"
   ]
  },
  {
   "cell_type": "code",
   "execution_count": 34,
   "metadata": {},
   "outputs": [],
   "source": [
    "# Plot sales per year\n",
    "sql_new_forecasts = '''\n",
    " select \n",
    "  ds as date,\n",
    "  store,\n",
    "  item,\n",
    "  y as sales,\n",
    "  yhat as sales_predicted,\n",
    "  yhat_upper as sales_predicted_upper,\n",
    "  yhat_lower as sales_predicted_lower,\n",
    "  training_date\n",
    "from new_forecasts\n",
    "  '''"
   ]
  },
  {
   "cell_type": "code",
   "execution_count": 35,
   "metadata": {},
   "outputs": [],
   "source": [
    "results.write.parquet('../src/main/resources/kaggle/output/forecasted_sales')"
   ]
  },
  {
   "cell_type": "code",
   "execution_count": 36,
   "metadata": {},
   "outputs": [
    {
     "name": "stdout",
     "output_type": "stream",
     "text": [
      "Computed time at pandas_udf was : 1025.7375407218933 seconds\n"
     ]
    }
   ],
   "source": [
    "time_finish_all = time.time()\n",
    "print(f'Computed time at pandas_udf was : {time_finish_all - time_start_all} seconds')\n"
   ]
  },
  {
   "cell_type": "code",
   "execution_count": 37,
   "metadata": {},
   "outputs": [
    {
     "name": "stdout",
     "output_type": "stream",
     "text": [
      "Computed time at toPandas conversion was : 112.64919018745422 seconds\n"
     ]
    }
   ],
   "source": [
    "time_start_all = time.time()\n",
    "sql_new_forecasts = spark.sql(sql_new_forecasts).toPandas()\n",
    "# drop any missing records\n",
    "sql_new_forecasts = sql_new_forecasts.dropna()\n",
    "time_finish_all = time.time()\n",
    "print(f'Computed time at toPandas conversion was : {time_finish_all - time_start_all} seconds')"
   ]
  },
  {
   "cell_type": "code",
   "execution_count": 38,
   "metadata": {
    "scrolled": true
   },
   "outputs": [
    {
     "name": "stdout",
     "output_type": "stream",
     "text": [
      "        date  store  item  sales  sales_predicted  sales_predicted_upper  \\\n",
      "0 2013-01-01      1     5   11.0         8.078590              16.326565   \n",
      "1 2013-01-02      1     5    6.0         8.365060              16.151966   \n",
      "2 2013-01-03      1     5    8.0         9.529001              17.453157   \n",
      "3 2013-01-04      1     5    9.0         9.800947              17.835989   \n",
      "4 2013-01-05      1     5    8.0        10.867021              18.828100   \n",
      "\n",
      "   sales_predicted_lower training_date  \n",
      "0               0.161641    2020-05-18  \n",
      "1               0.475921    2020-05-18  \n",
      "2               1.729006    2020-05-18  \n",
      "3               2.206596    2020-05-18  \n",
      "4               2.773755    2020-05-18  \n"
     ]
    }
   ],
   "source": [
    "print(sql_new_forecasts.head())"
   ]
  },
  {
   "cell_type": "code",
   "execution_count": 39,
   "metadata": {},
   "outputs": [
    {
     "data": {
      "text/plain": [
       "<matplotlib.axes._subplots.AxesSubplot at 0x120d28c88>"
      ]
     },
     "execution_count": 39,
     "metadata": {},
     "output_type": "execute_result"
    },
    {
     "data": {
      "image/png": "[encoded data removed]",
      "text/plain": [
       "<Figure size 432x288 with 1 Axes>"
      ]
     },
     "metadata": {
      "needs_background": "light"
     },
     "output_type": "display_data"
    }
   ],
   "source": [
    "sql_new_forecasts.plot(x='date', y='sales')"
   ]
  },
  {
   "cell_type": "code",
   "execution_count": null,
   "metadata": {},
   "outputs": [],
   "source": [
    "# Generate evaluation metrics for each store-item forecast:\n",
    "# TODO: new udf_function, save results and interpret errors estimation."
   ]
  }
 ],
 "metadata": {
  "kernelspec": {
   "display_name": "Python 3",
   "language": "python",
   "name": "python3"
  },
  "language_info": {
   "codemirror_mode": {
    "name": "ipython",
    "version": 3
   },
   "file_extension": ".py",
   "mimetype": "text/x-python",
   "name": "python",
   "nbconvert_exporter": "python",
   "pygments_lexer": "ipython3",
   "version": "3.7.0"
  }
 },
 "nbformat": 4,
 "nbformat_minor": 1
}
